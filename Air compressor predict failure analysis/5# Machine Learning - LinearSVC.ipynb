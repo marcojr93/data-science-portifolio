{
 "cells": [
  {
   "cell_type": "markdown",
   "id": "d851afc9",
   "metadata": {},
   "source": [
    "### SVC"
   ]
  },
  {
   "cell_type": "code",
   "execution_count": 1,
   "id": "bce1fd6e",
   "metadata": {},
   "outputs": [
    {
     "data": {
      "text/html": [
       "<div>\n",
       "<style scoped>\n",
       "    .dataframe tbody tr th:only-of-type {\n",
       "        vertical-align: middle;\n",
       "    }\n",
       "\n",
       "    .dataframe tbody tr th {\n",
       "        vertical-align: top;\n",
       "    }\n",
       "\n",
       "    .dataframe thead th {\n",
       "        text-align: right;\n",
       "    }\n",
       "</style>\n",
       "<table border=\"1\" class=\"dataframe\">\n",
       "  <thead>\n",
       "    <tr style=\"text-align: right;\">\n",
       "      <th></th>\n",
       "      <th>corrente_cp11</th>\n",
       "      <th>corrente_cp12</th>\n",
       "      <th>corrente_cp13</th>\n",
       "      <th>corrente_cp31</th>\n",
       "      <th>vazaro_ar</th>\n",
       "      <th>pressao_ar</th>\n",
       "      <th>falha</th>\n",
       "    </tr>\n",
       "  </thead>\n",
       "  <tbody>\n",
       "    <tr>\n",
       "      <th>0</th>\n",
       "      <td>96.900002</td>\n",
       "      <td>92.599998</td>\n",
       "      <td>97.000000</td>\n",
       "      <td>97.400002</td>\n",
       "      <td>21204.308594</td>\n",
       "      <td>516.897827</td>\n",
       "      <td>0</td>\n",
       "    </tr>\n",
       "    <tr>\n",
       "      <th>1</th>\n",
       "      <td>96.900002</td>\n",
       "      <td>92.500000</td>\n",
       "      <td>97.000000</td>\n",
       "      <td>97.400002</td>\n",
       "      <td>21073.390625</td>\n",
       "      <td>516.804749</td>\n",
       "      <td>0</td>\n",
       "    </tr>\n",
       "    <tr>\n",
       "      <th>2</th>\n",
       "      <td>96.900002</td>\n",
       "      <td>92.300003</td>\n",
       "      <td>96.900002</td>\n",
       "      <td>97.800003</td>\n",
       "      <td>21070.710938</td>\n",
       "      <td>517.828857</td>\n",
       "      <td>0</td>\n",
       "    </tr>\n",
       "    <tr>\n",
       "      <th>3</th>\n",
       "      <td>96.800003</td>\n",
       "      <td>92.500000</td>\n",
       "      <td>97.000000</td>\n",
       "      <td>97.400002</td>\n",
       "      <td>21106.867188</td>\n",
       "      <td>518.573669</td>\n",
       "      <td>0</td>\n",
       "    </tr>\n",
       "    <tr>\n",
       "      <th>4</th>\n",
       "      <td>97.000000</td>\n",
       "      <td>92.599998</td>\n",
       "      <td>97.199997</td>\n",
       "      <td>97.400002</td>\n",
       "      <td>21230.927734</td>\n",
       "      <td>518.759949</td>\n",
       "      <td>0</td>\n",
       "    </tr>\n",
       "    <tr>\n",
       "      <th>...</th>\n",
       "      <td>...</td>\n",
       "      <td>...</td>\n",
       "      <td>...</td>\n",
       "      <td>...</td>\n",
       "      <td>...</td>\n",
       "      <td>...</td>\n",
       "      <td>...</td>\n",
       "    </tr>\n",
       "    <tr>\n",
       "      <th>61357</th>\n",
       "      <td>99.699997</td>\n",
       "      <td>96.000000</td>\n",
       "      <td>111.000000</td>\n",
       "      <td>98.400002</td>\n",
       "      <td>20611.375000</td>\n",
       "      <td>592.868469</td>\n",
       "      <td>0</td>\n",
       "    </tr>\n",
       "    <tr>\n",
       "      <th>61358</th>\n",
       "      <td>99.500000</td>\n",
       "      <td>95.599998</td>\n",
       "      <td>110.699997</td>\n",
       "      <td>97.800003</td>\n",
       "      <td>20561.994141</td>\n",
       "      <td>594.916626</td>\n",
       "      <td>0</td>\n",
       "    </tr>\n",
       "    <tr>\n",
       "      <th>61359</th>\n",
       "      <td>99.599998</td>\n",
       "      <td>95.699997</td>\n",
       "      <td>110.900002</td>\n",
       "      <td>98.700005</td>\n",
       "      <td>20605.894531</td>\n",
       "      <td>594.637390</td>\n",
       "      <td>0</td>\n",
       "    </tr>\n",
       "    <tr>\n",
       "      <th>61360</th>\n",
       "      <td>99.400002</td>\n",
       "      <td>95.599998</td>\n",
       "      <td>110.699997</td>\n",
       "      <td>98.099998</td>\n",
       "      <td>20581.210938</td>\n",
       "      <td>595.568359</td>\n",
       "      <td>0</td>\n",
       "    </tr>\n",
       "    <tr>\n",
       "      <th>61361</th>\n",
       "      <td>99.500000</td>\n",
       "      <td>95.599998</td>\n",
       "      <td>110.699997</td>\n",
       "      <td>98.400002</td>\n",
       "      <td>20571.603516</td>\n",
       "      <td>595.940796</td>\n",
       "      <td>0</td>\n",
       "    </tr>\n",
       "  </tbody>\n",
       "</table>\n",
       "<p>61362 rows × 7 columns</p>\n",
       "</div>"
      ],
      "text/plain": [
       "       corrente_cp11  corrente_cp12  corrente_cp13  corrente_cp31  \\\n",
       "0          96.900002      92.599998      97.000000      97.400002   \n",
       "1          96.900002      92.500000      97.000000      97.400002   \n",
       "2          96.900002      92.300003      96.900002      97.800003   \n",
       "3          96.800003      92.500000      97.000000      97.400002   \n",
       "4          97.000000      92.599998      97.199997      97.400002   \n",
       "...              ...            ...            ...            ...   \n",
       "61357      99.699997      96.000000     111.000000      98.400002   \n",
       "61358      99.500000      95.599998     110.699997      97.800003   \n",
       "61359      99.599998      95.699997     110.900002      98.700005   \n",
       "61360      99.400002      95.599998     110.699997      98.099998   \n",
       "61361      99.500000      95.599998     110.699997      98.400002   \n",
       "\n",
       "          vazaro_ar  pressao_ar  falha  \n",
       "0      21204.308594  516.897827      0  \n",
       "1      21073.390625  516.804749      0  \n",
       "2      21070.710938  517.828857      0  \n",
       "3      21106.867188  518.573669      0  \n",
       "4      21230.927734  518.759949      0  \n",
       "...             ...         ...    ...  \n",
       "61357  20611.375000  592.868469      0  \n",
       "61358  20561.994141  594.916626      0  \n",
       "61359  20605.894531  594.637390      0  \n",
       "61360  20581.210938  595.568359      0  \n",
       "61361  20571.603516  595.940796      0  \n",
       "\n",
       "[61362 rows x 7 columns]"
      ]
     },
     "execution_count": 1,
     "metadata": {},
     "output_type": "execute_result"
    }
   ],
   "source": [
    "import matplotlib.pyplot as plt\n",
    "%matplotlib inline\n",
    "\n",
    "import pandas as pd\n",
    "import numpy as np\n",
    "import seaborn as sns\n",
    "import warnings\n",
    "warnings.filterwarnings(action = 'ignore')\n",
    "\n",
    "df = pd.read_csv('Datasets/dataset_comp2.csv', sep = ';')\n",
    "df"
   ]
  },
  {
   "cell_type": "code",
   "execution_count": 51,
   "id": "c48fa1a5",
   "metadata": {},
   "outputs": [
    {
     "name": "stdout",
     "output_type": "stream",
     "text": [
      "Dados separados em treino e teste\n"
     ]
    }
   ],
   "source": [
    "# Importando a biblioteca necesária para separação dos dados\n",
    "\n",
    "from sklearn.model_selection import train_test_split\n",
    "from sklearn import metrics\n",
    "\n",
    "# Váriavel Y\n",
    "y = df['falha']\n",
    "\n",
    "# Váriavel X\n",
    "X = df[['corrente_cp11','vazaro_ar', 'pressao_ar']]\n",
    "\n",
    "X_train, X_test, y_train, y_test = train_test_split(X, y, test_size = 0.33, random_state = 2811)\n",
    "\n",
    "print(\"Dados separados em treino e teste\")"
   ]
  },
  {
   "cell_type": "markdown",
   "id": "4860b24c",
   "metadata": {},
   "source": [
    "### Modelo SVC"
   ]
  },
  {
   "cell_type": "code",
   "execution_count": 52,
   "id": "4e193e77",
   "metadata": {},
   "outputs": [
    {
     "name": "stdout",
     "output_type": "stream",
     "text": [
      "Modelo criado\n"
     ]
    }
   ],
   "source": [
    "from sklearn.svm import LinearSVC\n",
    "from sklearn.pipeline import make_pipeline\n",
    "from sklearn.preprocessing import StandardScaler\n",
    "from sklearn.datasets import make_classification\n",
    "\n",
    "modelo = LinearSVC()\n",
    "modelo.fit(X_train,y_train)\n",
    "print(\"Modelo criado\")"
   ]
  },
  {
   "cell_type": "code",
   "execution_count": 62,
   "id": "081de401",
   "metadata": {},
   "outputs": [
    {
     "data": {
      "text/plain": [
       "array([0, 0, 0, ..., 0, 0, 0], dtype=int64)"
      ]
     },
     "execution_count": 62,
     "metadata": {},
     "output_type": "execute_result"
    }
   ],
   "source": [
    "y_pred = modelo.predict(X_test)\n",
    "y_pred"
   ]
  },
  {
   "cell_type": "markdown",
   "id": "29e338ac",
   "metadata": {},
   "source": [
    "#### Teste manual"
   ]
  },
  {
   "cell_type": "code",
   "execution_count": 63,
   "id": "9caa1831",
   "metadata": {},
   "outputs": [
    {
     "data": {
      "text/html": [
       "<div>\n",
       "<style scoped>\n",
       "    .dataframe tbody tr th:only-of-type {\n",
       "        vertical-align: middle;\n",
       "    }\n",
       "\n",
       "    .dataframe tbody tr th {\n",
       "        vertical-align: top;\n",
       "    }\n",
       "\n",
       "    .dataframe thead th {\n",
       "        text-align: right;\n",
       "    }\n",
       "</style>\n",
       "<table border=\"1\" class=\"dataframe\">\n",
       "  <thead>\n",
       "    <tr style=\"text-align: right;\">\n",
       "      <th></th>\n",
       "      <th>corrente_cp11</th>\n",
       "      <th>corrente_cp12</th>\n",
       "      <th>corrente_cp13</th>\n",
       "      <th>corrente_cp31</th>\n",
       "      <th>vazaro_ar</th>\n",
       "      <th>pressao_ar</th>\n",
       "      <th>falha</th>\n",
       "    </tr>\n",
       "  </thead>\n",
       "  <tbody>\n",
       "    <tr>\n",
       "      <th>0</th>\n",
       "      <td>96.900002</td>\n",
       "      <td>92.599998</td>\n",
       "      <td>97.0</td>\n",
       "      <td>97.400002</td>\n",
       "      <td>21204.308594</td>\n",
       "      <td>516.897827</td>\n",
       "      <td>0</td>\n",
       "    </tr>\n",
       "  </tbody>\n",
       "</table>\n",
       "</div>"
      ],
      "text/plain": [
       "   corrente_cp11  corrente_cp12  corrente_cp13  corrente_cp31     vazaro_ar  \\\n",
       "0      96.900002      92.599998           97.0      97.400002  21204.308594   \n",
       "\n",
       "   pressao_ar  falha  \n",
       "0  516.897827      0  "
      ]
     },
     "execution_count": 63,
     "metadata": {},
     "output_type": "execute_result"
    }
   ],
   "source": [
    "colunas = X_test.columns.to_list()\n",
    "entrada = X_test[0:1]\n",
    "linha = df.iloc[[0]]\n",
    "linha"
   ]
  },
  {
   "cell_type": "code",
   "execution_count": 64,
   "id": "75e104bb",
   "metadata": {},
   "outputs": [
    {
     "data": {
      "text/plain": [
       "array([0], dtype=int64)"
      ]
     },
     "execution_count": 64,
     "metadata": {},
     "output_type": "execute_result"
    }
   ],
   "source": [
    "linha_pred = modelo.predict(linha[colunas])\n",
    "linha_pred"
   ]
  },
  {
   "cell_type": "code",
   "execution_count": 65,
   "id": "af087874",
   "metadata": {},
   "outputs": [],
   "source": [
    "linha_2 = linha.copy()\n",
    "linha_2['corrente_cp11'] = 120"
   ]
  },
  {
   "cell_type": "code",
   "execution_count": 66,
   "id": "99c78e41",
   "metadata": {},
   "outputs": [
    {
     "name": "stdout",
     "output_type": "stream",
     "text": [
      "Previsão Linha 2: [0]\n"
     ]
    }
   ],
   "source": [
    "print(\"Previsão Linha 2: {}\".format(modelo.predict(linha_2[colunas])))"
   ]
  },
  {
   "cell_type": "markdown",
   "id": "cc57a988",
   "metadata": {},
   "source": [
    "#### Metricas"
   ]
  },
  {
   "cell_type": "code",
   "execution_count": 67,
   "id": "21873c42",
   "metadata": {},
   "outputs": [
    {
     "name": "stdout",
     "output_type": "stream",
     "text": [
      "0.980246913580247\n"
     ]
    }
   ],
   "source": [
    "acuracia = metrics.accuracy_score(y_test, y_pred)\n",
    "print(acuracia)"
   ]
  },
  {
   "cell_type": "code",
   "execution_count": 68,
   "id": "f9e831fa",
   "metadata": {},
   "outputs": [
    {
     "name": "stdout",
     "output_type": "stream",
     "text": [
      "0.0\n"
     ]
    }
   ],
   "source": [
    "precisao = metrics.precision_score(y_test, y_pred)\n",
    "print(precisao)"
   ]
  },
  {
   "cell_type": "code",
   "execution_count": 69,
   "id": "581be3b0",
   "metadata": {},
   "outputs": [
    {
     "name": "stdout",
     "output_type": "stream",
     "text": [
      "0.0\n"
     ]
    }
   ],
   "source": [
    "recall_pred = metrics.recall_score(y_test, y_pred)\n",
    "print(recall_pred)"
   ]
  },
  {
   "cell_type": "code",
   "execution_count": 70,
   "id": "4fb788c0",
   "metadata": {},
   "outputs": [
    {
     "name": "stdout",
     "output_type": "stream",
     "text": [
      "[[19850     0]\n",
      " [  400     0]]\n"
     ]
    }
   ],
   "source": [
    "matriz = metrics.confusion_matrix(y_test, y_pred)\n",
    "print(matriz)"
   ]
  },
  {
   "cell_type": "code",
   "execution_count": null,
   "id": "7507caf7",
   "metadata": {},
   "outputs": [],
   "source": []
  }
 ],
 "metadata": {
  "kernelspec": {
   "display_name": "Python 3",
   "language": "python",
   "name": "python3"
  },
  "language_info": {
   "codemirror_mode": {
    "name": "ipython",
    "version": 3
   },
   "file_extension": ".py",
   "mimetype": "text/x-python",
   "name": "python",
   "nbconvert_exporter": "python",
   "pygments_lexer": "ipython3",
   "version": "3.8.8"
  }
 },
 "nbformat": 4,
 "nbformat_minor": 5
}
