{
 "cells": [
  {
   "cell_type": "markdown",
   "id": "5b08e701",
   "metadata": {},
   "source": [
    "## Failure analysis for an industry equipment"
   ]
  },
  {
   "cell_type": "markdown",
   "id": "52fb819c",
   "metadata": {},
   "source": [
    "##### Air compressors are responsible for generating and distributing compressed air for pneumatic systems such as valve controllers, actuators, blowing systems and other process functions within an industry.\n",
    "\n",
    "##### The failure predict project aims to identify signs that may indicate that there is an abnormal operation of the equipment in order to act before the faha happens and thus reduce costs and has emergencies in the treatment of the problem"
   ]
  },
  {
   "cell_type": "markdown",
   "id": "b5197047",
   "metadata": {},
   "source": [
    "### Import libraries"
   ]
  },
  {
   "cell_type": "code",
   "execution_count": 2,
   "id": "18d7af42",
   "metadata": {},
   "outputs": [],
   "source": [
    "import matplotlib.pyplot as plt\n",
    "%matplotlib inline\n",
    "\n",
    "import pandas as pd\n",
    "import numpy as np\n",
    "import seaborn as sns\n",
    "import warnings\n",
    "warnings.filterwarnings(action = 'ignore')"
   ]
  },
  {
   "cell_type": "markdown",
   "id": "ec55d3eb",
   "metadata": {},
   "source": [
    "## Data base pre working"
   ]
  },
  {
   "cell_type": "code",
   "execution_count": 3,
   "id": "5741ce7b",
   "metadata": {},
   "outputs": [],
   "source": [
    "# Dataset used in this project is a monthly data collected by sensors that includes the equipment current (Ampere), air flow volume (m³/h) and air pressure (KPa)\n",
    "\n",
    "df = pd.read_excel('Datasets/dataset_comp.xlsx')"
   ]
  },
  {
   "cell_type": "code",
   "execution_count": 11,
   "id": "faaab138",
   "metadata": {},
   "outputs": [
    {
     "data": {
      "text/html": [
       "<div>\n",
       "<style scoped>\n",
       "    .dataframe tbody tr th:only-of-type {\n",
       "        vertical-align: middle;\n",
       "    }\n",
       "\n",
       "    .dataframe tbody tr th {\n",
       "        vertical-align: top;\n",
       "    }\n",
       "\n",
       "    .dataframe thead th {\n",
       "        text-align: right;\n",
       "    }\n",
       "</style>\n",
       "<table border=\"1\" class=\"dataframe\">\n",
       "  <thead>\n",
       "    <tr style=\"text-align: right;\">\n",
       "      <th></th>\n",
       "      <th>Timestamp</th>\n",
       "      <th>corrente_cp11</th>\n",
       "      <th>corrente_cp12</th>\n",
       "      <th>corrente_cp13</th>\n",
       "      <th>corrente_cp31</th>\n",
       "      <th>vazaro_ar</th>\n",
       "      <th>pressao_ar</th>\n",
       "    </tr>\n",
       "  </thead>\n",
       "  <tbody>\n",
       "    <tr>\n",
       "      <th>0</th>\n",
       "      <td>2021-12-01 00:00:00</td>\n",
       "      <td>96.900002</td>\n",
       "      <td>92.599998</td>\n",
       "      <td>97.000000</td>\n",
       "      <td>97.400002</td>\n",
       "      <td>21204.308594</td>\n",
       "      <td>516.897827</td>\n",
       "    </tr>\n",
       "    <tr>\n",
       "      <th>1</th>\n",
       "      <td>2021-12-01 00:01:00</td>\n",
       "      <td>96.900002</td>\n",
       "      <td>92.500000</td>\n",
       "      <td>97.000000</td>\n",
       "      <td>97.400002</td>\n",
       "      <td>21073.390625</td>\n",
       "      <td>516.804749</td>\n",
       "    </tr>\n",
       "    <tr>\n",
       "      <th>2</th>\n",
       "      <td>2021-12-01 00:02:00</td>\n",
       "      <td>96.900002</td>\n",
       "      <td>92.300003</td>\n",
       "      <td>96.900002</td>\n",
       "      <td>97.800003</td>\n",
       "      <td>21070.710938</td>\n",
       "      <td>517.828857</td>\n",
       "    </tr>\n",
       "    <tr>\n",
       "      <th>3</th>\n",
       "      <td>2021-12-01 00:03:00</td>\n",
       "      <td>96.800003</td>\n",
       "      <td>92.500000</td>\n",
       "      <td>97.000000</td>\n",
       "      <td>97.400002</td>\n",
       "      <td>21106.867188</td>\n",
       "      <td>518.573669</td>\n",
       "    </tr>\n",
       "    <tr>\n",
       "      <th>4</th>\n",
       "      <td>2021-12-01 00:04:00</td>\n",
       "      <td>97.000000</td>\n",
       "      <td>92.599998</td>\n",
       "      <td>97.199997</td>\n",
       "      <td>97.400002</td>\n",
       "      <td>21230.927734</td>\n",
       "      <td>518.759949</td>\n",
       "    </tr>\n",
       "  </tbody>\n",
       "</table>\n",
       "</div>"
      ],
      "text/plain": [
       "            Timestamp  corrente_cp11  corrente_cp12  corrente_cp13  \\\n",
       "0 2021-12-01 00:00:00      96.900002      92.599998      97.000000   \n",
       "1 2021-12-01 00:01:00      96.900002      92.500000      97.000000   \n",
       "2 2021-12-01 00:02:00      96.900002      92.300003      96.900002   \n",
       "3 2021-12-01 00:03:00      96.800003      92.500000      97.000000   \n",
       "4 2021-12-01 00:04:00      97.000000      92.599998      97.199997   \n",
       "\n",
       "   corrente_cp31     vazaro_ar  pressao_ar  \n",
       "0      97.400002  21204.308594  516.897827  \n",
       "1      97.400002  21073.390625  516.804749  \n",
       "2      97.800003  21070.710938  517.828857  \n",
       "3      97.400002  21106.867188  518.573669  \n",
       "4      97.400002  21230.927734  518.759949  "
      ]
     },
     "execution_count": 11,
     "metadata": {},
     "output_type": "execute_result"
    }
   ],
   "source": [
    "df.head()"
   ]
  },
  {
   "cell_type": "code",
   "execution_count": 12,
   "id": "6eddedf1",
   "metadata": {},
   "outputs": [
    {
     "data": {
      "text/html": [
       "<div>\n",
       "<style scoped>\n",
       "    .dataframe tbody tr th:only-of-type {\n",
       "        vertical-align: middle;\n",
       "    }\n",
       "\n",
       "    .dataframe tbody tr th {\n",
       "        vertical-align: top;\n",
       "    }\n",
       "\n",
       "    .dataframe thead th {\n",
       "        text-align: right;\n",
       "    }\n",
       "</style>\n",
       "<table border=\"1\" class=\"dataframe\">\n",
       "  <thead>\n",
       "    <tr style=\"text-align: right;\">\n",
       "      <th></th>\n",
       "      <th>corrente_cp11</th>\n",
       "      <th>corrente_cp12</th>\n",
       "      <th>corrente_cp13</th>\n",
       "      <th>corrente_cp31</th>\n",
       "      <th>vazaro_ar</th>\n",
       "      <th>pressao_ar</th>\n",
       "    </tr>\n",
       "  </thead>\n",
       "  <tbody>\n",
       "    <tr>\n",
       "      <th>count</th>\n",
       "      <td>61921.000000</td>\n",
       "      <td>61921.000000</td>\n",
       "      <td>61921.000000</td>\n",
       "      <td>61921.000000</td>\n",
       "      <td>61921.000000</td>\n",
       "      <td>61921.000000</td>\n",
       "    </tr>\n",
       "    <tr>\n",
       "      <th>mean</th>\n",
       "      <td>95.246340</td>\n",
       "      <td>91.170718</td>\n",
       "      <td>89.628754</td>\n",
       "      <td>96.314404</td>\n",
       "      <td>21030.963462</td>\n",
       "      <td>512.345541</td>\n",
       "    </tr>\n",
       "    <tr>\n",
       "      <th>std</th>\n",
       "      <td>11.679920</td>\n",
       "      <td>8.173813</td>\n",
       "      <td>34.520230</td>\n",
       "      <td>1.977443</td>\n",
       "      <td>1343.395800</td>\n",
       "      <td>33.929872</td>\n",
       "    </tr>\n",
       "    <tr>\n",
       "      <th>min</th>\n",
       "      <td>-37.500000</td>\n",
       "      <td>-37.500000</td>\n",
       "      <td>-37.500000</td>\n",
       "      <td>89.000000</td>\n",
       "      <td>11073.125000</td>\n",
       "      <td>291.127441</td>\n",
       "    </tr>\n",
       "    <tr>\n",
       "      <th>25%</th>\n",
       "      <td>94.599998</td>\n",
       "      <td>90.300003</td>\n",
       "      <td>94.400002</td>\n",
       "      <td>94.800003</td>\n",
       "      <td>21026.439453</td>\n",
       "      <td>503.863678</td>\n",
       "    </tr>\n",
       "    <tr>\n",
       "      <th>50%</th>\n",
       "      <td>95.800003</td>\n",
       "      <td>91.500000</td>\n",
       "      <td>96.400002</td>\n",
       "      <td>96.099998</td>\n",
       "      <td>21348.976562</td>\n",
       "      <td>516.246155</td>\n",
       "    </tr>\n",
       "    <tr>\n",
       "      <th>75%</th>\n",
       "      <td>98.199997</td>\n",
       "      <td>93.099998</td>\n",
       "      <td>100.699997</td>\n",
       "      <td>97.800003</td>\n",
       "      <td>21596.218750</td>\n",
       "      <td>526.766602</td>\n",
       "    </tr>\n",
       "    <tr>\n",
       "      <th>max</th>\n",
       "      <td>109.400002</td>\n",
       "      <td>97.300003</td>\n",
       "      <td>114.400002</td>\n",
       "      <td>105.900002</td>\n",
       "      <td>23066.876953</td>\n",
       "      <td>637.836365</td>\n",
       "    </tr>\n",
       "  </tbody>\n",
       "</table>\n",
       "</div>"
      ],
      "text/plain": [
       "       corrente_cp11  corrente_cp12  corrente_cp13  corrente_cp31  \\\n",
       "count   61921.000000   61921.000000   61921.000000   61921.000000   \n",
       "mean       95.246340      91.170718      89.628754      96.314404   \n",
       "std        11.679920       8.173813      34.520230       1.977443   \n",
       "min       -37.500000     -37.500000     -37.500000      89.000000   \n",
       "25%        94.599998      90.300003      94.400002      94.800003   \n",
       "50%        95.800003      91.500000      96.400002      96.099998   \n",
       "75%        98.199997      93.099998     100.699997      97.800003   \n",
       "max       109.400002      97.300003     114.400002     105.900002   \n",
       "\n",
       "          vazaro_ar    pressao_ar  \n",
       "count  61921.000000  61921.000000  \n",
       "mean   21030.963462    512.345541  \n",
       "std     1343.395800     33.929872  \n",
       "min    11073.125000    291.127441  \n",
       "25%    21026.439453    503.863678  \n",
       "50%    21348.976562    516.246155  \n",
       "75%    21596.218750    526.766602  \n",
       "max    23066.876953    637.836365  "
      ]
     },
     "execution_count": 12,
     "metadata": {},
     "output_type": "execute_result"
    }
   ],
   "source": [
    "df.describe()"
   ]
  },
  {
   "cell_type": "code",
   "execution_count": 4,
   "id": "bf3cbb88",
   "metadata": {},
   "outputs": [
    {
     "data": {
      "image/png": "[encoded data removed]",
      "text/plain": [
       "<Figure size 720x504 with 2 Axes>"
      ]
     },
     "metadata": {
      "needs_background": "light"
     },
     "output_type": "display_data"
    }
   ],
   "source": [
    "# Correlation matrix to understand the relationship between variables\n",
    "\n",
    "correlacao = df.corr()\n",
    "\n",
    "f, ax = plt.subplots(figsize = (10,7))\n",
    "top_correlacao = df[correlacao.corrente_cp11.sort_values(ascending = False)[:10].index].corr()\n",
    "sns.heatmap(top_correlacao, annot = True)\n",
    "plt.show()"
   ]
  },
  {
   "cell_type": "code",
   "execution_count": 14,
   "id": "aa1b670a",
   "metadata": {},
   "outputs": [
    {
     "data": {
      "image/png": "[encoded data removed]",
      "text/plain": [
       "<Figure size 360x180 with 2 Axes>"
      ]
     },
     "metadata": {
      "needs_background": "light"
     },
     "output_type": "display_data"
    }
   ],
   "source": [
    "# Evaluating the relationship between the values of highest correlation graphically\n",
    "\n",
    "ax = sns.pairplot(df, y_vars = 'corrente_cp11', x_vars = ['vazaro_ar', 'pressao_ar'])"
   ]
  },
  {
   "cell_type": "markdown",
   "id": "5e5ea06c",
   "metadata": {},
   "source": [
    "##### It is necessary to clean the outliers identified at current values below 50 A. This number makes no sense talking about the operational routine"
   ]
  },
  {
   "cell_type": "code",
   "execution_count": null,
   "id": "5d27664e",
   "metadata": {},
   "outputs": [],
   "source": []
  }
 ],
 "metadata": {
  "kernelspec": {
   "display_name": "Python 3",
   "language": "python",
   "name": "python3"
  },
  "language_info": {
   "codemirror_mode": {
    "name": "ipython",
    "version": 3
   },
   "file_extension": ".py",
   "mimetype": "text/x-python",
   "name": "python",
   "nbconvert_exporter": "python",
   "pygments_lexer": "ipython3",
   "version": "3.8.8"
  }
 },
 "nbformat": 4,
 "nbformat_minor": 5
}
