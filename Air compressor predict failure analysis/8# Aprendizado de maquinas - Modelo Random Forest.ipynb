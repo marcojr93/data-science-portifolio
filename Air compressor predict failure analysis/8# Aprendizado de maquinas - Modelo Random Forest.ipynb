{
 "cells": [
  {
   "cell_type": "markdown",
   "id": "1a08b1ef",
   "metadata": {},
   "source": [
    "## Teste dos modelos de classificação\n",
    "### Random Forest"
   ]
  },
  {
   "cell_type": "code",
   "execution_count": 1,
   "id": "441683cf",
   "metadata": {},
   "outputs": [
    {
     "data": {
      "text/html": [
       "<div>\n",
       "<style scoped>\n",
       "    .dataframe tbody tr th:only-of-type {\n",
       "        vertical-align: middle;\n",
       "    }\n",
       "\n",
       "    .dataframe tbody tr th {\n",
       "        vertical-align: top;\n",
       "    }\n",
       "\n",
       "    .dataframe thead th {\n",
       "        text-align: right;\n",
       "    }\n",
       "</style>\n",
       "<table border=\"1\" class=\"dataframe\">\n",
       "  <thead>\n",
       "    <tr style=\"text-align: right;\">\n",
       "      <th></th>\n",
       "      <th>corrente_cp11</th>\n",
       "      <th>corrente_cp12</th>\n",
       "      <th>corrente_cp13</th>\n",
       "      <th>corrente_cp31</th>\n",
       "      <th>vazaro_ar</th>\n",
       "      <th>pressao_ar</th>\n",
       "      <th>falha</th>\n",
       "    </tr>\n",
       "  </thead>\n",
       "  <tbody>\n",
       "    <tr>\n",
       "      <th>0</th>\n",
       "      <td>96.900002</td>\n",
       "      <td>92.599998</td>\n",
       "      <td>97.000000</td>\n",
       "      <td>97.400002</td>\n",
       "      <td>21204.308594</td>\n",
       "      <td>516.897827</td>\n",
       "      <td>0</td>\n",
       "    </tr>\n",
       "    <tr>\n",
       "      <th>1</th>\n",
       "      <td>96.900002</td>\n",
       "      <td>92.500000</td>\n",
       "      <td>97.000000</td>\n",
       "      <td>97.400002</td>\n",
       "      <td>21073.390625</td>\n",
       "      <td>516.804749</td>\n",
       "      <td>0</td>\n",
       "    </tr>\n",
       "    <tr>\n",
       "      <th>2</th>\n",
       "      <td>96.900002</td>\n",
       "      <td>92.300003</td>\n",
       "      <td>96.900002</td>\n",
       "      <td>97.800003</td>\n",
       "      <td>21070.710938</td>\n",
       "      <td>517.828857</td>\n",
       "      <td>0</td>\n",
       "    </tr>\n",
       "    <tr>\n",
       "      <th>3</th>\n",
       "      <td>96.800003</td>\n",
       "      <td>92.500000</td>\n",
       "      <td>97.000000</td>\n",
       "      <td>97.400002</td>\n",
       "      <td>21106.867188</td>\n",
       "      <td>518.573669</td>\n",
       "      <td>0</td>\n",
       "    </tr>\n",
       "    <tr>\n",
       "      <th>4</th>\n",
       "      <td>97.000000</td>\n",
       "      <td>92.599998</td>\n",
       "      <td>97.199997</td>\n",
       "      <td>97.400002</td>\n",
       "      <td>21230.927734</td>\n",
       "      <td>518.759949</td>\n",
       "      <td>0</td>\n",
       "    </tr>\n",
       "    <tr>\n",
       "      <th>...</th>\n",
       "      <td>...</td>\n",
       "      <td>...</td>\n",
       "      <td>...</td>\n",
       "      <td>...</td>\n",
       "      <td>...</td>\n",
       "      <td>...</td>\n",
       "      <td>...</td>\n",
       "    </tr>\n",
       "    <tr>\n",
       "      <th>61357</th>\n",
       "      <td>99.699997</td>\n",
       "      <td>96.000000</td>\n",
       "      <td>111.000000</td>\n",
       "      <td>98.400002</td>\n",
       "      <td>20611.375000</td>\n",
       "      <td>592.868469</td>\n",
       "      <td>0</td>\n",
       "    </tr>\n",
       "    <tr>\n",
       "      <th>61358</th>\n",
       "      <td>99.500000</td>\n",
       "      <td>95.599998</td>\n",
       "      <td>110.699997</td>\n",
       "      <td>97.800003</td>\n",
       "      <td>20561.994141</td>\n",
       "      <td>594.916626</td>\n",
       "      <td>0</td>\n",
       "    </tr>\n",
       "    <tr>\n",
       "      <th>61359</th>\n",
       "      <td>99.599998</td>\n",
       "      <td>95.699997</td>\n",
       "      <td>110.900002</td>\n",
       "      <td>98.700005</td>\n",
       "      <td>20605.894531</td>\n",
       "      <td>594.637390</td>\n",
       "      <td>0</td>\n",
       "    </tr>\n",
       "    <tr>\n",
       "      <th>61360</th>\n",
       "      <td>99.400002</td>\n",
       "      <td>95.599998</td>\n",
       "      <td>110.699997</td>\n",
       "      <td>98.099998</td>\n",
       "      <td>20581.210938</td>\n",
       "      <td>595.568359</td>\n",
       "      <td>0</td>\n",
       "    </tr>\n",
       "    <tr>\n",
       "      <th>61361</th>\n",
       "      <td>99.500000</td>\n",
       "      <td>95.599998</td>\n",
       "      <td>110.699997</td>\n",
       "      <td>98.400002</td>\n",
       "      <td>20571.603516</td>\n",
       "      <td>595.940796</td>\n",
       "      <td>0</td>\n",
       "    </tr>\n",
       "  </tbody>\n",
       "</table>\n",
       "<p>61362 rows × 7 columns</p>\n",
       "</div>"
      ],
      "text/plain": [
       "       corrente_cp11  corrente_cp12  corrente_cp13  corrente_cp31  \\\n",
       "0          96.900002      92.599998      97.000000      97.400002   \n",
       "1          96.900002      92.500000      97.000000      97.400002   \n",
       "2          96.900002      92.300003      96.900002      97.800003   \n",
       "3          96.800003      92.500000      97.000000      97.400002   \n",
       "4          97.000000      92.599998      97.199997      97.400002   \n",
       "...              ...            ...            ...            ...   \n",
       "61357      99.699997      96.000000     111.000000      98.400002   \n",
       "61358      99.500000      95.599998     110.699997      97.800003   \n",
       "61359      99.599998      95.699997     110.900002      98.700005   \n",
       "61360      99.400002      95.599998     110.699997      98.099998   \n",
       "61361      99.500000      95.599998     110.699997      98.400002   \n",
       "\n",
       "          vazaro_ar  pressao_ar  falha  \n",
       "0      21204.308594  516.897827      0  \n",
       "1      21073.390625  516.804749      0  \n",
       "2      21070.710938  517.828857      0  \n",
       "3      21106.867188  518.573669      0  \n",
       "4      21230.927734  518.759949      0  \n",
       "...             ...         ...    ...  \n",
       "61357  20611.375000  592.868469      0  \n",
       "61358  20561.994141  594.916626      0  \n",
       "61359  20605.894531  594.637390      0  \n",
       "61360  20581.210938  595.568359      0  \n",
       "61361  20571.603516  595.940796      0  \n",
       "\n",
       "[61362 rows x 7 columns]"
      ]
     },
     "execution_count": 1,
     "metadata": {},
     "output_type": "execute_result"
    }
   ],
   "source": [
    "import matplotlib.pyplot as plt\n",
    "%matplotlib inline\n",
    "\n",
    "import pandas as pd\n",
    "import numpy as np\n",
    "import seaborn as sns\n",
    "import warnings\n",
    "warnings.filterwarnings(action = 'ignore')\n",
    "\n",
    "df = pd.read_csv('Datasets/dataset_comp2.csv', sep = ';')\n",
    "df"
   ]
  },
  {
   "cell_type": "code",
   "execution_count": 2,
   "id": "62d0f8bd",
   "metadata": {},
   "outputs": [
    {
     "name": "stdout",
     "output_type": "stream",
     "text": [
      "Dados separados em treino e teste\n"
     ]
    }
   ],
   "source": [
    "# Importando a biblioteca necesária para separação dos dados\n",
    "\n",
    "from sklearn.model_selection import train_test_split\n",
    "from sklearn import metrics\n",
    "\n",
    "# Váriavel Y\n",
    "y = df['falha']\n",
    "\n",
    "# Váriavel X\n",
    "X = df[['corrente_cp11','vazaro_ar', 'pressao_ar']]\n",
    "\n",
    "X_train, X_test, y_train, y_test = train_test_split(X, y, test_size = 0.33, random_state = 2811)\n",
    "\n",
    "print(\"Dados separados em treino e teste\")"
   ]
  },
  {
   "cell_type": "markdown",
   "id": "ec882aa0",
   "metadata": {},
   "source": [
    "### Modelo Linear Regression"
   ]
  },
  {
   "cell_type": "code",
   "execution_count": 3,
   "id": "99ab0287",
   "metadata": {},
   "outputs": [
    {
     "name": "stdout",
     "output_type": "stream",
     "text": [
      "Modelo criado\n"
     ]
    }
   ],
   "source": [
    "from sklearn.ensemble import RandomForestClassifier\n",
    "\n",
    "modelo = RandomForestClassifier()\n",
    "modelo.fit(X_train,y_train)\n",
    "print(\"Modelo criado\")"
   ]
  },
  {
   "cell_type": "code",
   "execution_count": 4,
   "id": "2b1201e3",
   "metadata": {},
   "outputs": [
    {
     "data": {
      "text/plain": [
       "array([0, 0, 0, ..., 0, 0, 0], dtype=int64)"
      ]
     },
     "execution_count": 4,
     "metadata": {},
     "output_type": "execute_result"
    }
   ],
   "source": [
    "y_pred= modelo.predict(X_test)\n",
    "y_pred"
   ]
  },
  {
   "cell_type": "markdown",
   "id": "803f1071",
   "metadata": {},
   "source": [
    "#### Teste manual"
   ]
  },
  {
   "cell_type": "code",
   "execution_count": 5,
   "id": "4dfabe23",
   "metadata": {},
   "outputs": [
    {
     "data": {
      "text/html": [
       "<div>\n",
       "<style scoped>\n",
       "    .dataframe tbody tr th:only-of-type {\n",
       "        vertical-align: middle;\n",
       "    }\n",
       "\n",
       "    .dataframe tbody tr th {\n",
       "        vertical-align: top;\n",
       "    }\n",
       "\n",
       "    .dataframe thead th {\n",
       "        text-align: right;\n",
       "    }\n",
       "</style>\n",
       "<table border=\"1\" class=\"dataframe\">\n",
       "  <thead>\n",
       "    <tr style=\"text-align: right;\">\n",
       "      <th></th>\n",
       "      <th>corrente_cp11</th>\n",
       "      <th>corrente_cp12</th>\n",
       "      <th>corrente_cp13</th>\n",
       "      <th>corrente_cp31</th>\n",
       "      <th>vazaro_ar</th>\n",
       "      <th>pressao_ar</th>\n",
       "      <th>falha</th>\n",
       "    </tr>\n",
       "  </thead>\n",
       "  <tbody>\n",
       "    <tr>\n",
       "      <th>0</th>\n",
       "      <td>96.900002</td>\n",
       "      <td>92.599998</td>\n",
       "      <td>97.0</td>\n",
       "      <td>97.400002</td>\n",
       "      <td>21204.308594</td>\n",
       "      <td>516.897827</td>\n",
       "      <td>0</td>\n",
       "    </tr>\n",
       "  </tbody>\n",
       "</table>\n",
       "</div>"
      ],
      "text/plain": [
       "   corrente_cp11  corrente_cp12  corrente_cp13  corrente_cp31     vazaro_ar  \\\n",
       "0      96.900002      92.599998           97.0      97.400002  21204.308594   \n",
       "\n",
       "   pressao_ar  falha  \n",
       "0  516.897827      0  "
      ]
     },
     "execution_count": 5,
     "metadata": {},
     "output_type": "execute_result"
    }
   ],
   "source": [
    "colunas = X_test.columns.to_list()\n",
    "entrada = X_test[0:1]\n",
    "linha = df.iloc[[0]]\n",
    "linha"
   ]
  },
  {
   "cell_type": "code",
   "execution_count": 6,
   "id": "c47ec12b",
   "metadata": {},
   "outputs": [
    {
     "data": {
      "text/plain": [
       "array([0], dtype=int64)"
      ]
     },
     "execution_count": 6,
     "metadata": {},
     "output_type": "execute_result"
    }
   ],
   "source": [
    "linha_pred = modelo.predict(linha[colunas])\n",
    "linha_pred"
   ]
  },
  {
   "cell_type": "code",
   "execution_count": 7,
   "id": "570781b9",
   "metadata": {},
   "outputs": [],
   "source": [
    "# Teste hipotese\n",
    "\n",
    "# Assumimos que haverá alerta para valr de corrente acima de 100, vazão menor que 21038\n",
    "# vamos avaliar se o modelo prever a condição de falha nessa situação"
   ]
  },
  {
   "cell_type": "code",
   "execution_count": 8,
   "id": "49b8afa4",
   "metadata": {},
   "outputs": [
    {
     "name": "stdout",
     "output_type": "stream",
     "text": [
      "Previsão Linha 2: [1]\n"
     ]
    }
   ],
   "source": [
    "linha_2 = linha.copy()\n",
    "linha_2['corrente_cp11'] = 101\n",
    "linha_2['vazaro_ar'] = 21038\n",
    "print(\"Previsão Linha 2: {}\".format(modelo.predict(linha_2[colunas])))"
   ]
  },
  {
   "cell_type": "markdown",
   "id": "1370b88c",
   "metadata": {},
   "source": [
    "#### Metricas"
   ]
  },
  {
   "cell_type": "code",
   "execution_count": 9,
   "id": "f2c20d7e",
   "metadata": {},
   "outputs": [
    {
     "name": "stdout",
     "output_type": "stream",
     "text": [
      "1.0\n"
     ]
    }
   ],
   "source": [
    "acuracia = metrics.accuracy_score(y_test, y_pred)\n",
    "print(acuracia)"
   ]
  },
  {
   "cell_type": "code",
   "execution_count": 10,
   "id": "1e5eab9f",
   "metadata": {},
   "outputs": [
    {
     "name": "stdout",
     "output_type": "stream",
     "text": [
      "1.0\n"
     ]
    }
   ],
   "source": [
    "precisao = metrics.precision_score(y_test, y_pred)\n",
    "print(precisao)"
   ]
  },
  {
   "cell_type": "code",
   "execution_count": 11,
   "id": "93a73308",
   "metadata": {},
   "outputs": [
    {
     "name": "stdout",
     "output_type": "stream",
     "text": [
      "1.0\n"
     ]
    }
   ],
   "source": [
    "recall_pred = metrics.recall_score(y_test, y_pred)\n",
    "print(recall_pred)"
   ]
  },
  {
   "cell_type": "code",
   "execution_count": 12,
   "id": "82205ca5",
   "metadata": {},
   "outputs": [
    {
     "name": "stdout",
     "output_type": "stream",
     "text": [
      "[[19850     0]\n",
      " [    0   400]]\n"
     ]
    }
   ],
   "source": [
    "matriz = metrics.confusion_matrix(y_test, y_pred)\n",
    "print(matriz)"
   ]
  },
  {
   "cell_type": "markdown",
   "id": "3bd215e3",
   "metadata": {},
   "source": [
    "##### Melhor modelo encontrado para o problema"
   ]
  },
  {
   "cell_type": "code",
   "execution_count": 13,
   "id": "48b56111",
   "metadata": {},
   "outputs": [
    {
     "name": "stdout",
     "output_type": "stream",
     "text": [
      "Dataset concluído\n"
     ]
    }
   ],
   "source": [
    "import itertools\n",
    "\n",
    "linhas = []\n",
    "\n",
    "entrada = linha.copy()\n",
    "corrente_cp11 = 101\n",
    "\n",
    "for (i, j) in itertools.product(range(21038,23066), range(504,637)):\n",
    "    vazaro_ar = i\n",
    "    pressao_ar = j\n",
    "    entrada = [[corrente_cp11,vazaro_ar, pressao_ar]]\n",
    "    previsao_falha = int(modelo.predict(entrada)[0])\n",
    "    \n",
    "    linhas.append([previsao_falha, vazaro_ar, pressao_ar])\n",
    "    \n",
    "df_pred = pd.DataFrame(linhas, columns = [\"falha\",\"vazao\",\"pressao\"])\n",
    "print(\"Dataset concluído\")"
   ]
  },
  {
   "cell_type": "code",
   "execution_count": 14,
   "id": "358cf62a",
   "metadata": {},
   "outputs": [
    {
     "data": {
      "text/html": [
       "<div>\n",
       "<style scoped>\n",
       "    .dataframe tbody tr th:only-of-type {\n",
       "        vertical-align: middle;\n",
       "    }\n",
       "\n",
       "    .dataframe tbody tr th {\n",
       "        vertical-align: top;\n",
       "    }\n",
       "\n",
       "    .dataframe thead th {\n",
       "        text-align: right;\n",
       "    }\n",
       "</style>\n",
       "<table border=\"1\" class=\"dataframe\">\n",
       "  <thead>\n",
       "    <tr style=\"text-align: right;\">\n",
       "      <th></th>\n",
       "      <th>falha</th>\n",
       "      <th>vazao</th>\n",
       "      <th>pressao</th>\n",
       "    </tr>\n",
       "  </thead>\n",
       "  <tbody>\n",
       "    <tr>\n",
       "      <th>0</th>\n",
       "      <td>1</td>\n",
       "      <td>21038</td>\n",
       "      <td>504</td>\n",
       "    </tr>\n",
       "  </tbody>\n",
       "</table>\n",
       "</div>"
      ],
      "text/plain": [
       "   falha  vazao  pressao\n",
       "0      1  21038      504"
      ]
     },
     "execution_count": 14,
     "metadata": {},
     "output_type": "execute_result"
    }
   ],
   "source": [
    "# Análise do menor valor de vazão e pressão para de corrente em alerta\n",
    "\n",
    "df_pred.nsmallest(1,'pressao')"
   ]
  },
  {
   "cell_type": "code",
   "execution_count": 15,
   "id": "53ac6511",
   "metadata": {},
   "outputs": [
    {
     "data": {
      "text/html": [
       "<div>\n",
       "<style scoped>\n",
       "    .dataframe tbody tr th:only-of-type {\n",
       "        vertical-align: middle;\n",
       "    }\n",
       "\n",
       "    .dataframe tbody tr th {\n",
       "        vertical-align: top;\n",
       "    }\n",
       "\n",
       "    .dataframe thead th {\n",
       "        text-align: right;\n",
       "    }\n",
       "</style>\n",
       "<table border=\"1\" class=\"dataframe\">\n",
       "  <thead>\n",
       "    <tr style=\"text-align: right;\">\n",
       "      <th></th>\n",
       "      <th>falha</th>\n",
       "      <th>vazao</th>\n",
       "      <th>pressao</th>\n",
       "    </tr>\n",
       "  </thead>\n",
       "  <tbody>\n",
       "    <tr>\n",
       "      <th>0</th>\n",
       "      <td>1</td>\n",
       "      <td>21038</td>\n",
       "      <td>504</td>\n",
       "    </tr>\n",
       "    <tr>\n",
       "      <th>1</th>\n",
       "      <td>1</td>\n",
       "      <td>21038</td>\n",
       "      <td>505</td>\n",
       "    </tr>\n",
       "    <tr>\n",
       "      <th>2</th>\n",
       "      <td>1</td>\n",
       "      <td>21038</td>\n",
       "      <td>506</td>\n",
       "    </tr>\n",
       "    <tr>\n",
       "      <th>3</th>\n",
       "      <td>1</td>\n",
       "      <td>21038</td>\n",
       "      <td>507</td>\n",
       "    </tr>\n",
       "    <tr>\n",
       "      <th>4</th>\n",
       "      <td>1</td>\n",
       "      <td>21038</td>\n",
       "      <td>508</td>\n",
       "    </tr>\n",
       "  </tbody>\n",
       "</table>\n",
       "</div>"
      ],
      "text/plain": [
       "   falha  vazao  pressao\n",
       "0      1  21038      504\n",
       "1      1  21038      505\n",
       "2      1  21038      506\n",
       "3      1  21038      507\n",
       "4      1  21038      508"
      ]
     },
     "execution_count": 15,
     "metadata": {},
     "output_type": "execute_result"
    }
   ],
   "source": [
    "df_pred.to_csv('Datasets/dataset_final.csv', sep = ';', index = False)\n",
    "df_pred.head()"
   ]
  }
 ],
 "metadata": {
  "kernelspec": {
   "display_name": "Python 3",
   "language": "python",
   "name": "python3"
  },
  "language_info": {
   "codemirror_mode": {
    "name": "ipython",
    "version": 3
   },
   "file_extension": ".py",
   "mimetype": "text/x-python",
   "name": "python",
   "nbconvert_exporter": "python",
   "pygments_lexer": "ipython3",
   "version": "3.8.8"
  }
 },
 "nbformat": 4,
 "nbformat_minor": 5
}
