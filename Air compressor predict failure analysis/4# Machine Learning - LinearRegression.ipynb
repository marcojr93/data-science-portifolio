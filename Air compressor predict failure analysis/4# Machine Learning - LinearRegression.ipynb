{
 "cells": [
  {
   "cell_type": "markdown",
   "id": "63c1f130",
   "metadata": {},
   "source": [
    "## Machine learning"
   ]
  },
  {
   "cell_type": "code",
   "execution_count": 1,
   "id": "db70a125",
   "metadata": {},
   "outputs": [
    {
     "data": {
      "text/html": [
       "<div>\n",
       "<style scoped>\n",
       "    .dataframe tbody tr th:only-of-type {\n",
       "        vertical-align: middle;\n",
       "    }\n",
       "\n",
       "    .dataframe tbody tr th {\n",
       "        vertical-align: top;\n",
       "    }\n",
       "\n",
       "    .dataframe thead th {\n",
       "        text-align: right;\n",
       "    }\n",
       "</style>\n",
       "<table border=\"1\" class=\"dataframe\">\n",
       "  <thead>\n",
       "    <tr style=\"text-align: right;\">\n",
       "      <th></th>\n",
       "      <th>corrente_cp11</th>\n",
       "      <th>corrente_cp12</th>\n",
       "      <th>corrente_cp13</th>\n",
       "      <th>corrente_cp31</th>\n",
       "      <th>vazaro_ar</th>\n",
       "      <th>pressao_ar</th>\n",
       "      <th>falha</th>\n",
       "    </tr>\n",
       "  </thead>\n",
       "  <tbody>\n",
       "    <tr>\n",
       "      <th>0</th>\n",
       "      <td>96.900002</td>\n",
       "      <td>92.599998</td>\n",
       "      <td>97.000000</td>\n",
       "      <td>97.400002</td>\n",
       "      <td>21204.308594</td>\n",
       "      <td>516.897827</td>\n",
       "      <td>0</td>\n",
       "    </tr>\n",
       "    <tr>\n",
       "      <th>1</th>\n",
       "      <td>96.900002</td>\n",
       "      <td>92.500000</td>\n",
       "      <td>97.000000</td>\n",
       "      <td>97.400002</td>\n",
       "      <td>21073.390625</td>\n",
       "      <td>516.804749</td>\n",
       "      <td>0</td>\n",
       "    </tr>\n",
       "    <tr>\n",
       "      <th>2</th>\n",
       "      <td>96.900002</td>\n",
       "      <td>92.300003</td>\n",
       "      <td>96.900002</td>\n",
       "      <td>97.800003</td>\n",
       "      <td>21070.710938</td>\n",
       "      <td>517.828857</td>\n",
       "      <td>0</td>\n",
       "    </tr>\n",
       "    <tr>\n",
       "      <th>3</th>\n",
       "      <td>96.800003</td>\n",
       "      <td>92.500000</td>\n",
       "      <td>97.000000</td>\n",
       "      <td>97.400002</td>\n",
       "      <td>21106.867188</td>\n",
       "      <td>518.573669</td>\n",
       "      <td>0</td>\n",
       "    </tr>\n",
       "    <tr>\n",
       "      <th>4</th>\n",
       "      <td>97.000000</td>\n",
       "      <td>92.599998</td>\n",
       "      <td>97.199997</td>\n",
       "      <td>97.400002</td>\n",
       "      <td>21230.927734</td>\n",
       "      <td>518.759949</td>\n",
       "      <td>0</td>\n",
       "    </tr>\n",
       "    <tr>\n",
       "      <th>...</th>\n",
       "      <td>...</td>\n",
       "      <td>...</td>\n",
       "      <td>...</td>\n",
       "      <td>...</td>\n",
       "      <td>...</td>\n",
       "      <td>...</td>\n",
       "      <td>...</td>\n",
       "    </tr>\n",
       "    <tr>\n",
       "      <th>61357</th>\n",
       "      <td>99.699997</td>\n",
       "      <td>96.000000</td>\n",
       "      <td>111.000000</td>\n",
       "      <td>98.400002</td>\n",
       "      <td>20611.375000</td>\n",
       "      <td>592.868469</td>\n",
       "      <td>0</td>\n",
       "    </tr>\n",
       "    <tr>\n",
       "      <th>61358</th>\n",
       "      <td>99.500000</td>\n",
       "      <td>95.599998</td>\n",
       "      <td>110.699997</td>\n",
       "      <td>97.800003</td>\n",
       "      <td>20561.994141</td>\n",
       "      <td>594.916626</td>\n",
       "      <td>0</td>\n",
       "    </tr>\n",
       "    <tr>\n",
       "      <th>61359</th>\n",
       "      <td>99.599998</td>\n",
       "      <td>95.699997</td>\n",
       "      <td>110.900002</td>\n",
       "      <td>98.700005</td>\n",
       "      <td>20605.894531</td>\n",
       "      <td>594.637390</td>\n",
       "      <td>0</td>\n",
       "    </tr>\n",
       "    <tr>\n",
       "      <th>61360</th>\n",
       "      <td>99.400002</td>\n",
       "      <td>95.599998</td>\n",
       "      <td>110.699997</td>\n",
       "      <td>98.099998</td>\n",
       "      <td>20581.210938</td>\n",
       "      <td>595.568359</td>\n",
       "      <td>0</td>\n",
       "    </tr>\n",
       "    <tr>\n",
       "      <th>61361</th>\n",
       "      <td>99.500000</td>\n",
       "      <td>95.599998</td>\n",
       "      <td>110.699997</td>\n",
       "      <td>98.400002</td>\n",
       "      <td>20571.603516</td>\n",
       "      <td>595.940796</td>\n",
       "      <td>0</td>\n",
       "    </tr>\n",
       "  </tbody>\n",
       "</table>\n",
       "<p>61362 rows × 7 columns</p>\n",
       "</div>"
      ],
      "text/plain": [
       "       corrente_cp11  corrente_cp12  corrente_cp13  corrente_cp31  \\\n",
       "0          96.900002      92.599998      97.000000      97.400002   \n",
       "1          96.900002      92.500000      97.000000      97.400002   \n",
       "2          96.900002      92.300003      96.900002      97.800003   \n",
       "3          96.800003      92.500000      97.000000      97.400002   \n",
       "4          97.000000      92.599998      97.199997      97.400002   \n",
       "...              ...            ...            ...            ...   \n",
       "61357      99.699997      96.000000     111.000000      98.400002   \n",
       "61358      99.500000      95.599998     110.699997      97.800003   \n",
       "61359      99.599998      95.699997     110.900002      98.700005   \n",
       "61360      99.400002      95.599998     110.699997      98.099998   \n",
       "61361      99.500000      95.599998     110.699997      98.400002   \n",
       "\n",
       "          vazaro_ar  pressao_ar  falha  \n",
       "0      21204.308594  516.897827      0  \n",
       "1      21073.390625  516.804749      0  \n",
       "2      21070.710938  517.828857      0  \n",
       "3      21106.867188  518.573669      0  \n",
       "4      21230.927734  518.759949      0  \n",
       "...             ...         ...    ...  \n",
       "61357  20611.375000  592.868469      0  \n",
       "61358  20561.994141  594.916626      0  \n",
       "61359  20605.894531  594.637390      0  \n",
       "61360  20581.210938  595.568359      0  \n",
       "61361  20571.603516  595.940796      0  \n",
       "\n",
       "[61362 rows x 7 columns]"
      ]
     },
     "execution_count": 1,
     "metadata": {},
     "output_type": "execute_result"
    }
   ],
   "source": [
    "import matplotlib.pyplot as plt\n",
    "%matplotlib inline\n",
    "\n",
    "import pandas as pd\n",
    "import numpy as np\n",
    "import seaborn as sns\n",
    "import warnings\n",
    "warnings.filterwarnings(action = 'ignore')\n",
    "\n",
    "df = pd.read_csv('Datasets/dataset_comp2.csv', sep = ';')\n",
    "df"
   ]
  },
  {
   "cell_type": "code",
   "execution_count": 2,
   "id": "5c7affdd",
   "metadata": {},
   "outputs": [
    {
     "data": {
      "text/plain": [
       "0    60183\n",
       "1     1179\n",
       "Name: falha, dtype: int64"
      ]
     },
     "execution_count": 2,
     "metadata": {},
     "output_type": "execute_result"
    }
   ],
   "source": [
    "df['falha'].value_counts()"
   ]
  },
  {
   "cell_type": "markdown",
   "id": "a65b8fe1",
   "metadata": {},
   "source": [
    "### Separação entre dados de treino e teste"
   ]
  },
  {
   "cell_type": "markdown",
   "id": "5c9bea40",
   "metadata": {},
   "source": [
    "#### Aplicação do modelo de regressão linear"
   ]
  },
  {
   "cell_type": "code",
   "execution_count": 3,
   "id": "7387bb71",
   "metadata": {},
   "outputs": [],
   "source": [
    "# A inteção da utilização deste modelo é avaliar os valoes da corrente do compressor 11 variando pressão e vazão"
   ]
  },
  {
   "cell_type": "code",
   "execution_count": 6,
   "id": "451e5bcf",
   "metadata": {},
   "outputs": [
    {
     "name": "stdout",
     "output_type": "stream",
     "text": [
      "Dados separados em treino e teste\n"
     ]
    }
   ],
   "source": [
    "# Importando a biblioteca necesária para separação dos dados\n",
    "\n",
    "from sklearn.model_selection import train_test_split\n",
    "\n",
    "# Váriavel Y\n",
    "y = df['corrente_cp11']\n",
    "\n",
    "# Váriavel X\n",
    "X = df[['vazaro_ar', 'pressao_ar']]\n",
    "\n",
    "X_train, X_test, y_train, y_test = train_test_split(X, y, test_size = 0.33, random_state = 2811)\n",
    "\n",
    "print(\"Dados separados em treino e teste\")"
   ]
  },
  {
   "cell_type": "code",
   "execution_count": 7,
   "id": "319150ce",
   "metadata": {},
   "outputs": [],
   "source": [
    "# Modelo de regressão linear\n",
    "\n",
    "from sklearn.linear_model import LinearRegression\n",
    "from sklearn import metrics"
   ]
  },
  {
   "cell_type": "code",
   "execution_count": 9,
   "id": "bff76e7b",
   "metadata": {},
   "outputs": [
    {
     "name": "stdout",
     "output_type": "stream",
     "text": [
      "Modelo de treino criado\n"
     ]
    }
   ],
   "source": [
    "modelo = LinearRegression()\n",
    "modelo.fit(X_train, y_train)\n",
    "print(\"Modelo de treino criado\")"
   ]
  },
  {
   "cell_type": "markdown",
   "id": "2fb39157",
   "metadata": {},
   "source": [
    "#### Testando entrada de valores manuais"
   ]
  },
  {
   "cell_type": "code",
   "execution_count": 10,
   "id": "8e3b0e4c",
   "metadata": {},
   "outputs": [
    {
     "data": {
      "text/html": [
       "<div>\n",
       "<style scoped>\n",
       "    .dataframe tbody tr th:only-of-type {\n",
       "        vertical-align: middle;\n",
       "    }\n",
       "\n",
       "    .dataframe tbody tr th {\n",
       "        vertical-align: top;\n",
       "    }\n",
       "\n",
       "    .dataframe thead th {\n",
       "        text-align: right;\n",
       "    }\n",
       "</style>\n",
       "<table border=\"1\" class=\"dataframe\">\n",
       "  <thead>\n",
       "    <tr style=\"text-align: right;\">\n",
       "      <th></th>\n",
       "      <th>vazaro_ar</th>\n",
       "      <th>pressao_ar</th>\n",
       "    </tr>\n",
       "  </thead>\n",
       "  <tbody>\n",
       "    <tr>\n",
       "      <th>12233</th>\n",
       "      <td>21298.654297</td>\n",
       "      <td>527.976929</td>\n",
       "    </tr>\n",
       "  </tbody>\n",
       "</table>\n",
       "</div>"
      ],
      "text/plain": [
       "          vazaro_ar  pressao_ar\n",
       "12233  21298.654297  527.976929"
      ]
     },
     "execution_count": 10,
     "metadata": {},
     "output_type": "execute_result"
    }
   ],
   "source": [
    "entrada = X_test[0:1]\n",
    "entrada"
   ]
  },
  {
   "cell_type": "code",
   "execution_count": 17,
   "id": "e692e9c1",
   "metadata": {},
   "outputs": [
    {
     "name": "stdout",
     "output_type": "stream",
     "text": [
      "Valor de corrente para a entrada é : 96.78\n"
     ]
    }
   ],
   "source": [
    "corrente_pred = modelo.predict(entrada)\n",
    "print('Valor de corrente para a entrada é : {}'.format((corrente_pred[0]).round(2)))"
   ]
  },
  {
   "cell_type": "code",
   "execution_count": 31,
   "id": "4dfb2706",
   "metadata": {},
   "outputs": [
    {
     "name": "stdout",
     "output_type": "stream",
     "text": [
      "Valor previsto: 96.32492950285462\n"
     ]
    }
   ],
   "source": [
    "vazaro_ar = 21038\n",
    "pressao_ar = 513\n",
    "entrada_test = [[vazaro_ar, pressao_ar]]\n",
    "print(\"Valor previsto: {}\".format(modelo.predict(entrada_test)[0]))"
   ]
  },
  {
   "cell_type": "markdown",
   "id": "17eba9e7",
   "metadata": {},
   "source": [
    "#### Aplicando o modelo com a variação de vazão e pressão"
   ]
  },
  {
   "cell_type": "code",
   "execution_count": 18,
   "id": "060dbdb1",
   "metadata": {},
   "outputs": [
    {
     "data": {
      "text/html": [
       "<div>\n",
       "<style scoped>\n",
       "    .dataframe tbody tr th:only-of-type {\n",
       "        vertical-align: middle;\n",
       "    }\n",
       "\n",
       "    .dataframe tbody tr th {\n",
       "        vertical-align: top;\n",
       "    }\n",
       "\n",
       "    .dataframe thead th {\n",
       "        text-align: right;\n",
       "    }\n",
       "</style>\n",
       "<table border=\"1\" class=\"dataframe\">\n",
       "  <thead>\n",
       "    <tr style=\"text-align: right;\">\n",
       "      <th></th>\n",
       "      <th>corrente_cp11</th>\n",
       "      <th>corrente_cp12</th>\n",
       "      <th>corrente_cp13</th>\n",
       "      <th>corrente_cp31</th>\n",
       "      <th>vazaro_ar</th>\n",
       "      <th>pressao_ar</th>\n",
       "      <th>falha</th>\n",
       "    </tr>\n",
       "  </thead>\n",
       "  <tbody>\n",
       "    <tr>\n",
       "      <th>count</th>\n",
       "      <td>61362.000000</td>\n",
       "      <td>61362.000000</td>\n",
       "      <td>61362.000000</td>\n",
       "      <td>61362.000000</td>\n",
       "      <td>61362.000000</td>\n",
       "      <td>61362.000000</td>\n",
       "      <td>61362.000000</td>\n",
       "    </tr>\n",
       "    <tr>\n",
       "      <th>mean</th>\n",
       "      <td>96.309420</td>\n",
       "      <td>91.236344</td>\n",
       "      <td>90.404480</td>\n",
       "      <td>96.356543</td>\n",
       "      <td>21095.299721</td>\n",
       "      <td>513.580014</td>\n",
       "      <td>0.019214</td>\n",
       "    </tr>\n",
       "    <tr>\n",
       "      <th>std</th>\n",
       "      <td>2.212627</td>\n",
       "      <td>8.045329</td>\n",
       "      <td>33.209106</td>\n",
       "      <td>1.924950</td>\n",
       "      <td>1137.053218</td>\n",
       "      <td>31.025603</td>\n",
       "      <td>0.137277</td>\n",
       "    </tr>\n",
       "    <tr>\n",
       "      <th>min</th>\n",
       "      <td>89.300003</td>\n",
       "      <td>-37.500000</td>\n",
       "      <td>-37.500000</td>\n",
       "      <td>90.599998</td>\n",
       "      <td>14367.592773</td>\n",
       "      <td>338.236633</td>\n",
       "      <td>0.000000</td>\n",
       "    </tr>\n",
       "    <tr>\n",
       "      <th>25%</th>\n",
       "      <td>94.599998</td>\n",
       "      <td>90.300003</td>\n",
       "      <td>94.500000</td>\n",
       "      <td>94.800003</td>\n",
       "      <td>21038.521484</td>\n",
       "      <td>504.329224</td>\n",
       "      <td>0.000000</td>\n",
       "    </tr>\n",
       "    <tr>\n",
       "      <th>50%</th>\n",
       "      <td>95.800003</td>\n",
       "      <td>91.500000</td>\n",
       "      <td>96.500000</td>\n",
       "      <td>96.099998</td>\n",
       "      <td>21354.267578</td>\n",
       "      <td>516.432373</td>\n",
       "      <td>0.000000</td>\n",
       "    </tr>\n",
       "    <tr>\n",
       "      <th>75%</th>\n",
       "      <td>98.300003</td>\n",
       "      <td>93.099998</td>\n",
       "      <td>100.800003</td>\n",
       "      <td>97.800003</td>\n",
       "      <td>21598.835938</td>\n",
       "      <td>526.859680</td>\n",
       "      <td>0.000000</td>\n",
       "    </tr>\n",
       "    <tr>\n",
       "      <th>max</th>\n",
       "      <td>102.699997</td>\n",
       "      <td>97.300003</td>\n",
       "      <td>114.400002</td>\n",
       "      <td>105.900002</td>\n",
       "      <td>23066.876953</td>\n",
       "      <td>637.836365</td>\n",
       "      <td>1.000000</td>\n",
       "    </tr>\n",
       "  </tbody>\n",
       "</table>\n",
       "</div>"
      ],
      "text/plain": [
       "       corrente_cp11  corrente_cp12  corrente_cp13  corrente_cp31  \\\n",
       "count   61362.000000   61362.000000   61362.000000   61362.000000   \n",
       "mean       96.309420      91.236344      90.404480      96.356543   \n",
       "std         2.212627       8.045329      33.209106       1.924950   \n",
       "min        89.300003     -37.500000     -37.500000      90.599998   \n",
       "25%        94.599998      90.300003      94.500000      94.800003   \n",
       "50%        95.800003      91.500000      96.500000      96.099998   \n",
       "75%        98.300003      93.099998     100.800003      97.800003   \n",
       "max       102.699997      97.300003     114.400002     105.900002   \n",
       "\n",
       "          vazaro_ar    pressao_ar         falha  \n",
       "count  61362.000000  61362.000000  61362.000000  \n",
       "mean   21095.299721    513.580014      0.019214  \n",
       "std     1137.053218     31.025603      0.137277  \n",
       "min    14367.592773    338.236633      0.000000  \n",
       "25%    21038.521484    504.329224      0.000000  \n",
       "50%    21354.267578    516.432373      0.000000  \n",
       "75%    21598.835938    526.859680      0.000000  \n",
       "max    23066.876953    637.836365      1.000000  "
      ]
     },
     "execution_count": 18,
     "metadata": {},
     "output_type": "execute_result"
    }
   ],
   "source": [
    "df.describe()"
   ]
  },
  {
   "cell_type": "code",
   "execution_count": 20,
   "id": "4add2e90",
   "metadata": {},
   "outputs": [
    {
     "name": "stdout",
     "output_type": "stream",
     "text": [
      "Dataset concluído\n"
     ]
    }
   ],
   "source": [
    "import itertools\n",
    "\n",
    "linhas = []\n",
    "\n",
    "entrada = X_test[0:1]\n",
    "entrada\n",
    "\n",
    "for (i, j) in itertools.product(range(21038,23066), range(504,637)):\n",
    "    vazaro_ar = i\n",
    "    pressao_ar = j\n",
    "    entrada = [[vazaro_ar, pressao_ar]]\n",
    "    corrente_pred = int(modelo.predict(entrada)[0])\n",
    "    \n",
    "    linhas.append([corrente_pred, vazaro_ar, pressao_ar])\n",
    "    \n",
    "df_pred = pd.DataFrame(linhas, columns = [\"corrente_cp11\",\"vazao\",\"pressao\"])\n",
    "print(\"Dataset concluído\")"
   ]
  },
  {
   "cell_type": "code",
   "execution_count": 23,
   "id": "e775458d",
   "metadata": {},
   "outputs": [],
   "source": [
    "# Análise do menor valor de vazão e pressão para de corrente em alerta\n",
    "\n",
    "df_alerta = df_pred[df_pred['corrente_cp11'] > 100]"
   ]
  },
  {
   "cell_type": "code",
   "execution_count": 26,
   "id": "416bdf52",
   "metadata": {},
   "outputs": [
    {
     "data": {
      "text/html": [
       "<div>\n",
       "<style scoped>\n",
       "    .dataframe tbody tr th:only-of-type {\n",
       "        vertical-align: middle;\n",
       "    }\n",
       "\n",
       "    .dataframe tbody tr th {\n",
       "        vertical-align: top;\n",
       "    }\n",
       "\n",
       "    .dataframe thead th {\n",
       "        text-align: right;\n",
       "    }\n",
       "</style>\n",
       "<table border=\"1\" class=\"dataframe\">\n",
       "  <thead>\n",
       "    <tr style=\"text-align: right;\">\n",
       "      <th></th>\n",
       "      <th>corrente_cp11</th>\n",
       "      <th>vazao</th>\n",
       "      <th>pressao</th>\n",
       "    </tr>\n",
       "  </thead>\n",
       "  <tbody>\n",
       "    <tr>\n",
       "      <th>121</th>\n",
       "      <td>101</td>\n",
       "      <td>21038</td>\n",
       "      <td>625</td>\n",
       "    </tr>\n",
       "  </tbody>\n",
       "</table>\n",
       "</div>"
      ],
      "text/plain": [
       "     corrente_cp11  vazao  pressao\n",
       "121            101  21038      625"
      ]
     },
     "execution_count": 26,
     "metadata": {},
     "output_type": "execute_result"
    }
   ],
   "source": [
    "df_alerta.nsmallest(1,'vazao')"
   ]
  },
  {
   "cell_type": "code",
   "execution_count": 27,
   "id": "bed16a9a",
   "metadata": {},
   "outputs": [
    {
     "data": {
      "text/html": [
       "<div>\n",
       "<style scoped>\n",
       "    .dataframe tbody tr th:only-of-type {\n",
       "        vertical-align: middle;\n",
       "    }\n",
       "\n",
       "    .dataframe tbody tr th {\n",
       "        vertical-align: top;\n",
       "    }\n",
       "\n",
       "    .dataframe thead th {\n",
       "        text-align: right;\n",
       "    }\n",
       "</style>\n",
       "<table border=\"1\" class=\"dataframe\">\n",
       "  <thead>\n",
       "    <tr style=\"text-align: right;\">\n",
       "      <th></th>\n",
       "      <th>corrente_cp11</th>\n",
       "      <th>vazao</th>\n",
       "      <th>pressao</th>\n",
       "    </tr>\n",
       "  </thead>\n",
       "  <tbody>\n",
       "    <tr>\n",
       "      <th>121</th>\n",
       "      <td>101</td>\n",
       "      <td>21038</td>\n",
       "      <td>625</td>\n",
       "    </tr>\n",
       "  </tbody>\n",
       "</table>\n",
       "</div>"
      ],
      "text/plain": [
       "     corrente_cp11  vazao  pressao\n",
       "121            101  21038      625"
      ]
     },
     "execution_count": 27,
     "metadata": {},
     "output_type": "execute_result"
    }
   ],
   "source": [
    "df_alerta.nsmallest(1,'pressao')"
   ]
  },
  {
   "cell_type": "markdown",
   "id": "23ce0dc1",
   "metadata": {},
   "source": [
    "##### Teremos alerta, sempre que a corrente for superior a 100 para valores de vazão menor o igual a 21038\n",
    "##### Necessário adotar um outro modelo para entender o comportamento da pressão na corente"
   ]
  },
  {
   "cell_type": "code",
   "execution_count": null,
   "id": "bfe2089b",
   "metadata": {},
   "outputs": [],
   "source": []
  }
 ],
 "metadata": {
  "kernelspec": {
   "display_name": "Python 3",
   "language": "python",
   "name": "python3"
  },
  "language_info": {
   "codemirror_mode": {
    "name": "ipython",
    "version": 3
   },
   "file_extension": ".py",
   "mimetype": "text/x-python",
   "name": "python",
   "nbconvert_exporter": "python",
   "pygments_lexer": "ipython3",
   "version": "3.8.8"
  }
 },
 "nbformat": 4,
 "nbformat_minor": 5
}
