{
 "cells": [
  {
   "cell_type": "markdown",
   "id": "b39690a5",
   "metadata": {},
   "source": [
    "## Creating condition for failure classification"
   ]
  },
  {
   "cell_type": "code",
   "execution_count": 2,
   "id": "2d65845b",
   "metadata": {},
   "outputs": [
    {
     "data": {
      "text/html": [
       "<div>\n",
       "<style scoped>\n",
       "    .dataframe tbody tr th:only-of-type {\n",
       "        vertical-align: middle;\n",
       "    }\n",
       "\n",
       "    .dataframe tbody tr th {\n",
       "        vertical-align: top;\n",
       "    }\n",
       "\n",
       "    .dataframe thead th {\n",
       "        text-align: right;\n",
       "    }\n",
       "</style>\n",
       "<table border=\"1\" class=\"dataframe\">\n",
       "  <thead>\n",
       "    <tr style=\"text-align: right;\">\n",
       "      <th></th>\n",
       "      <th>Timestamp</th>\n",
       "      <th>corrente_cp11</th>\n",
       "      <th>corrente_cp12</th>\n",
       "      <th>corrente_cp13</th>\n",
       "      <th>corrente_cp31</th>\n",
       "      <th>vazaro_ar</th>\n",
       "      <th>pressao_ar</th>\n",
       "    </tr>\n",
       "  </thead>\n",
       "  <tbody>\n",
       "    <tr>\n",
       "      <th>0</th>\n",
       "      <td>2021-12-01 00:00:00</td>\n",
       "      <td>96.900002</td>\n",
       "      <td>92.599998</td>\n",
       "      <td>97.000000</td>\n",
       "      <td>97.400002</td>\n",
       "      <td>21204.308594</td>\n",
       "      <td>516.897827</td>\n",
       "    </tr>\n",
       "    <tr>\n",
       "      <th>1</th>\n",
       "      <td>2021-12-01 00:01:00</td>\n",
       "      <td>96.900002</td>\n",
       "      <td>92.500000</td>\n",
       "      <td>97.000000</td>\n",
       "      <td>97.400002</td>\n",
       "      <td>21073.390625</td>\n",
       "      <td>516.804749</td>\n",
       "    </tr>\n",
       "    <tr>\n",
       "      <th>2</th>\n",
       "      <td>2021-12-01 00:02:00</td>\n",
       "      <td>96.900002</td>\n",
       "      <td>92.300003</td>\n",
       "      <td>96.900002</td>\n",
       "      <td>97.800003</td>\n",
       "      <td>21070.710938</td>\n",
       "      <td>517.828857</td>\n",
       "    </tr>\n",
       "    <tr>\n",
       "      <th>3</th>\n",
       "      <td>2021-12-01 00:03:00</td>\n",
       "      <td>96.800003</td>\n",
       "      <td>92.500000</td>\n",
       "      <td>97.000000</td>\n",
       "      <td>97.400002</td>\n",
       "      <td>21106.867188</td>\n",
       "      <td>518.573669</td>\n",
       "    </tr>\n",
       "    <tr>\n",
       "      <th>4</th>\n",
       "      <td>2021-12-01 00:04:00</td>\n",
       "      <td>97.000000</td>\n",
       "      <td>92.599998</td>\n",
       "      <td>97.199997</td>\n",
       "      <td>97.400002</td>\n",
       "      <td>21230.927734</td>\n",
       "      <td>518.759949</td>\n",
       "    </tr>\n",
       "    <tr>\n",
       "      <th>...</th>\n",
       "      <td>...</td>\n",
       "      <td>...</td>\n",
       "      <td>...</td>\n",
       "      <td>...</td>\n",
       "      <td>...</td>\n",
       "      <td>...</td>\n",
       "      <td>...</td>\n",
       "    </tr>\n",
       "    <tr>\n",
       "      <th>61357</th>\n",
       "      <td>2022-01-12 23:56:00</td>\n",
       "      <td>99.699997</td>\n",
       "      <td>96.000000</td>\n",
       "      <td>111.000000</td>\n",
       "      <td>98.400002</td>\n",
       "      <td>20611.375000</td>\n",
       "      <td>592.868469</td>\n",
       "    </tr>\n",
       "    <tr>\n",
       "      <th>61358</th>\n",
       "      <td>2022-01-12 23:57:00</td>\n",
       "      <td>99.500000</td>\n",
       "      <td>95.599998</td>\n",
       "      <td>110.699997</td>\n",
       "      <td>97.800003</td>\n",
       "      <td>20561.994141</td>\n",
       "      <td>594.916626</td>\n",
       "    </tr>\n",
       "    <tr>\n",
       "      <th>61359</th>\n",
       "      <td>2022-01-12 23:58:00</td>\n",
       "      <td>99.599998</td>\n",
       "      <td>95.699997</td>\n",
       "      <td>110.900002</td>\n",
       "      <td>98.700005</td>\n",
       "      <td>20605.894531</td>\n",
       "      <td>594.637390</td>\n",
       "    </tr>\n",
       "    <tr>\n",
       "      <th>61360</th>\n",
       "      <td>2022-01-12 23:59:00</td>\n",
       "      <td>99.400002</td>\n",
       "      <td>95.599998</td>\n",
       "      <td>110.699997</td>\n",
       "      <td>98.099998</td>\n",
       "      <td>20581.210938</td>\n",
       "      <td>595.568359</td>\n",
       "    </tr>\n",
       "    <tr>\n",
       "      <th>61361</th>\n",
       "      <td>2022-01-13 00:00:00</td>\n",
       "      <td>99.500000</td>\n",
       "      <td>95.599998</td>\n",
       "      <td>110.699997</td>\n",
       "      <td>98.400002</td>\n",
       "      <td>20571.603516</td>\n",
       "      <td>595.940796</td>\n",
       "    </tr>\n",
       "  </tbody>\n",
       "</table>\n",
       "<p>61362 rows × 7 columns</p>\n",
       "</div>"
      ],
      "text/plain": [
       "                 Timestamp  corrente_cp11  corrente_cp12  corrente_cp13  \\\n",
       "0      2021-12-01 00:00:00      96.900002      92.599998      97.000000   \n",
       "1      2021-12-01 00:01:00      96.900002      92.500000      97.000000   \n",
       "2      2021-12-01 00:02:00      96.900002      92.300003      96.900002   \n",
       "3      2021-12-01 00:03:00      96.800003      92.500000      97.000000   \n",
       "4      2021-12-01 00:04:00      97.000000      92.599998      97.199997   \n",
       "...                    ...            ...            ...            ...   \n",
       "61357  2022-01-12 23:56:00      99.699997      96.000000     111.000000   \n",
       "61358  2022-01-12 23:57:00      99.500000      95.599998     110.699997   \n",
       "61359  2022-01-12 23:58:00      99.599998      95.699997     110.900002   \n",
       "61360  2022-01-12 23:59:00      99.400002      95.599998     110.699997   \n",
       "61361  2022-01-13 00:00:00      99.500000      95.599998     110.699997   \n",
       "\n",
       "       corrente_cp31     vazaro_ar  pressao_ar  \n",
       "0          97.400002  21204.308594  516.897827  \n",
       "1          97.400002  21073.390625  516.804749  \n",
       "2          97.800003  21070.710938  517.828857  \n",
       "3          97.400002  21106.867188  518.573669  \n",
       "4          97.400002  21230.927734  518.759949  \n",
       "...              ...           ...         ...  \n",
       "61357      98.400002  20611.375000  592.868469  \n",
       "61358      97.800003  20561.994141  594.916626  \n",
       "61359      98.700005  20605.894531  594.637390  \n",
       "61360      98.099998  20581.210938  595.568359  \n",
       "61361      98.400002  20571.603516  595.940796  \n",
       "\n",
       "[61362 rows x 7 columns]"
      ]
     },
     "execution_count": 2,
     "metadata": {},
     "output_type": "execute_result"
    }
   ],
   "source": [
    "import matplotlib.pyplot as plt\n",
    "%matplotlib inline\n",
    "\n",
    "import pandas as pd\n",
    "import numpy as np\n",
    "import seaborn as sns\n",
    "import warnings\n",
    "warnings.filterwarnings(action = 'ignore')\n",
    "\n",
    "df = pd.read_csv('Datasets/dataset_comp.csv', sep = ';')\n",
    "df"
   ]
  },
  {
   "cell_type": "code",
   "execution_count": 3,
   "id": "9165022a",
   "metadata": {},
   "outputs": [
    {
     "data": {
      "text/html": [
       "<div>\n",
       "<style scoped>\n",
       "    .dataframe tbody tr th:only-of-type {\n",
       "        vertical-align: middle;\n",
       "    }\n",
       "\n",
       "    .dataframe tbody tr th {\n",
       "        vertical-align: top;\n",
       "    }\n",
       "\n",
       "    .dataframe thead th {\n",
       "        text-align: right;\n",
       "    }\n",
       "</style>\n",
       "<table border=\"1\" class=\"dataframe\">\n",
       "  <thead>\n",
       "    <tr style=\"text-align: right;\">\n",
       "      <th></th>\n",
       "      <th>corrente_cp11</th>\n",
       "      <th>corrente_cp12</th>\n",
       "      <th>corrente_cp13</th>\n",
       "      <th>corrente_cp31</th>\n",
       "      <th>vazaro_ar</th>\n",
       "      <th>pressao_ar</th>\n",
       "    </tr>\n",
       "  </thead>\n",
       "  <tbody>\n",
       "    <tr>\n",
       "      <th>count</th>\n",
       "      <td>61362.000000</td>\n",
       "      <td>61362.000000</td>\n",
       "      <td>61362.000000</td>\n",
       "      <td>61362.000000</td>\n",
       "      <td>61362.000000</td>\n",
       "      <td>61362.000000</td>\n",
       "    </tr>\n",
       "    <tr>\n",
       "      <th>mean</th>\n",
       "      <td>96.309420</td>\n",
       "      <td>91.236344</td>\n",
       "      <td>90.404480</td>\n",
       "      <td>96.356543</td>\n",
       "      <td>21095.299721</td>\n",
       "      <td>513.580014</td>\n",
       "    </tr>\n",
       "    <tr>\n",
       "      <th>std</th>\n",
       "      <td>2.212627</td>\n",
       "      <td>8.045329</td>\n",
       "      <td>33.209106</td>\n",
       "      <td>1.924950</td>\n",
       "      <td>1137.053218</td>\n",
       "      <td>31.025603</td>\n",
       "    </tr>\n",
       "    <tr>\n",
       "      <th>min</th>\n",
       "      <td>89.300003</td>\n",
       "      <td>-37.500000</td>\n",
       "      <td>-37.500000</td>\n",
       "      <td>90.599998</td>\n",
       "      <td>14367.592773</td>\n",
       "      <td>338.236633</td>\n",
       "    </tr>\n",
       "    <tr>\n",
       "      <th>25%</th>\n",
       "      <td>94.599998</td>\n",
       "      <td>90.300003</td>\n",
       "      <td>94.500000</td>\n",
       "      <td>94.800003</td>\n",
       "      <td>21038.521484</td>\n",
       "      <td>504.329224</td>\n",
       "    </tr>\n",
       "    <tr>\n",
       "      <th>50%</th>\n",
       "      <td>95.800003</td>\n",
       "      <td>91.500000</td>\n",
       "      <td>96.500000</td>\n",
       "      <td>96.099998</td>\n",
       "      <td>21354.267578</td>\n",
       "      <td>516.432373</td>\n",
       "    </tr>\n",
       "    <tr>\n",
       "      <th>75%</th>\n",
       "      <td>98.300003</td>\n",
       "      <td>93.099998</td>\n",
       "      <td>100.800003</td>\n",
       "      <td>97.800003</td>\n",
       "      <td>21598.835938</td>\n",
       "      <td>526.859680</td>\n",
       "    </tr>\n",
       "    <tr>\n",
       "      <th>max</th>\n",
       "      <td>102.699997</td>\n",
       "      <td>97.300003</td>\n",
       "      <td>114.400002</td>\n",
       "      <td>105.900002</td>\n",
       "      <td>23066.876953</td>\n",
       "      <td>637.836365</td>\n",
       "    </tr>\n",
       "  </tbody>\n",
       "</table>\n",
       "</div>"
      ],
      "text/plain": [
       "       corrente_cp11  corrente_cp12  corrente_cp13  corrente_cp31  \\\n",
       "count   61362.000000   61362.000000   61362.000000   61362.000000   \n",
       "mean       96.309420      91.236344      90.404480      96.356543   \n",
       "std         2.212627       8.045329      33.209106       1.924950   \n",
       "min        89.300003     -37.500000     -37.500000      90.599998   \n",
       "25%        94.599998      90.300003      94.500000      94.800003   \n",
       "50%        95.800003      91.500000      96.500000      96.099998   \n",
       "75%        98.300003      93.099998     100.800003      97.800003   \n",
       "max       102.699997      97.300003     114.400002     105.900002   \n",
       "\n",
       "          vazaro_ar    pressao_ar  \n",
       "count  61362.000000  61362.000000  \n",
       "mean   21095.299721    513.580014  \n",
       "std     1137.053218     31.025603  \n",
       "min    14367.592773    338.236633  \n",
       "25%    21038.521484    504.329224  \n",
       "50%    21354.267578    516.432373  \n",
       "75%    21598.835938    526.859680  \n",
       "max    23066.876953    637.836365  "
      ]
     },
     "execution_count": 3,
     "metadata": {},
     "output_type": "execute_result"
    }
   ],
   "source": [
    "df.describe()"
   ]
  },
  {
   "cell_type": "code",
   "execution_count": 4,
   "id": "b4d91f7c",
   "metadata": {},
   "outputs": [],
   "source": [
    "# Set of operations for air flow and pressure\n",
    "# A compressor must not operate with current greater than 100 A when the pressure and flow valves are less than average\n",
    "\n",
    "set_vazao = df['vazaro_ar'].mean()\n",
    "set_pressao = df['pressao_ar'].mean()\n",
    "set_corrente = 100"
   ]
  },
  {
   "cell_type": "code",
   "execution_count": 5,
   "id": "9fd31147",
   "metadata": {},
   "outputs": [],
   "source": [
    "# Classify function\n",
    "\n",
    "def classifica(x):\n",
    "    if (x['corrente_cp11']) > set_corrente and (x['vazaro_ar']) < set_vazao:\n",
    "        return \"1\"\n",
    "    elif (x['corrente_cp11']) > set_corrente and (x['pressao_ar']) < set_pressao:\n",
    "        return \"1\"\n",
    "    else:\n",
    "        return \"0\"\n",
    "    \n",
    "df['falha'] = df.apply(classifica, axis = 1)"
   ]
  },
  {
   "cell_type": "code",
   "execution_count": 6,
   "id": "727704dd",
   "metadata": {},
   "outputs": [
    {
     "data": {
      "text/plain": [
       "0    60183\n",
       "1     1179\n",
       "Name: falha, dtype: int64"
      ]
     },
     "execution_count": 6,
     "metadata": {},
     "output_type": "execute_result"
    }
   ],
   "source": [
    "df['falha'].value_counts()"
   ]
  },
  {
   "cell_type": "markdown",
   "id": "948fb381",
   "metadata": {},
   "source": [
    "### EDA"
   ]
  },
  {
   "cell_type": "code",
   "execution_count": 7,
   "id": "d04b753b",
   "metadata": {},
   "outputs": [
    {
     "data": {
      "text/plain": [
       "<AxesSubplot:xlabel='corrente_cp11', ylabel='Count'>"
      ]
     },
     "execution_count": 7,
     "metadata": {},
     "output_type": "execute_result"
    },
    {
     "data": {
      "image/png": "[encoded data removed]",
      "text/plain": [
       "<Figure size 432x288 with 1 Axes>"
      ]
     },
     "metadata": {
      "needs_background": "light"
     },
     "output_type": "display_data"
    }
   ],
   "source": [
    "sns.histplot(df, x = 'corrente_cp11', hue = 'falha')"
   ]
  },
  {
   "cell_type": "code",
   "execution_count": 8,
   "id": "8fcb6fcf",
   "metadata": {},
   "outputs": [
    {
     "data": {
      "text/plain": [
       "<AxesSubplot:xlabel='falha', ylabel='corrente_cp11'>"
      ]
     },
     "execution_count": 8,
     "metadata": {},
     "output_type": "execute_result"
    },
    {
     "data": {
      "image/png": "[encoded data removed]",
      "text/plain": [
       "<Figure size 432x288 with 1 Axes>"
      ]
     },
     "metadata": {
      "needs_background": "light"
     },
     "output_type": "display_data"
    }
   ],
   "source": [
    "sns.boxplot(x = 'falha', y = 'corrente_cp11', data = df)"
   ]
  },
  {
   "cell_type": "code",
   "execution_count": 9,
   "id": "c7568269",
   "metadata": {},
   "outputs": [],
   "source": [
    "# To create data for training and testing, we need to disregard the effect of time, for this it is necessary to delete the column \"Timestamp\"\n",
    "\n",
    "df = df.drop(['Timestamp'], axis = 1)"
   ]
  },
  {
   "cell_type": "code",
   "execution_count": 12,
   "id": "268470b6",
   "metadata": {},
   "outputs": [
    {
     "data": {
      "text/html": [
       "<div>\n",
       "<style scoped>\n",
       "    .dataframe tbody tr th:only-of-type {\n",
       "        vertical-align: middle;\n",
       "    }\n",
       "\n",
       "    .dataframe tbody tr th {\n",
       "        vertical-align: top;\n",
       "    }\n",
       "\n",
       "    .dataframe thead th {\n",
       "        text-align: right;\n",
       "    }\n",
       "</style>\n",
       "<table border=\"1\" class=\"dataframe\">\n",
       "  <thead>\n",
       "    <tr style=\"text-align: right;\">\n",
       "      <th></th>\n",
       "      <th>corrente_cp11</th>\n",
       "      <th>corrente_cp12</th>\n",
       "      <th>corrente_cp13</th>\n",
       "      <th>corrente_cp31</th>\n",
       "      <th>vazaro_ar</th>\n",
       "      <th>pressao_ar</th>\n",
       "      <th>falha</th>\n",
       "    </tr>\n",
       "  </thead>\n",
       "  <tbody>\n",
       "    <tr>\n",
       "      <th>0</th>\n",
       "      <td>96.900002</td>\n",
       "      <td>92.599998</td>\n",
       "      <td>97.000000</td>\n",
       "      <td>97.400002</td>\n",
       "      <td>21204.308594</td>\n",
       "      <td>516.897827</td>\n",
       "      <td>0</td>\n",
       "    </tr>\n",
       "    <tr>\n",
       "      <th>1</th>\n",
       "      <td>96.900002</td>\n",
       "      <td>92.500000</td>\n",
       "      <td>97.000000</td>\n",
       "      <td>97.400002</td>\n",
       "      <td>21073.390625</td>\n",
       "      <td>516.804749</td>\n",
       "      <td>0</td>\n",
       "    </tr>\n",
       "    <tr>\n",
       "      <th>2</th>\n",
       "      <td>96.900002</td>\n",
       "      <td>92.300003</td>\n",
       "      <td>96.900002</td>\n",
       "      <td>97.800003</td>\n",
       "      <td>21070.710938</td>\n",
       "      <td>517.828857</td>\n",
       "      <td>0</td>\n",
       "    </tr>\n",
       "    <tr>\n",
       "      <th>3</th>\n",
       "      <td>96.800003</td>\n",
       "      <td>92.500000</td>\n",
       "      <td>97.000000</td>\n",
       "      <td>97.400002</td>\n",
       "      <td>21106.867188</td>\n",
       "      <td>518.573669</td>\n",
       "      <td>0</td>\n",
       "    </tr>\n",
       "    <tr>\n",
       "      <th>4</th>\n",
       "      <td>97.000000</td>\n",
       "      <td>92.599998</td>\n",
       "      <td>97.199997</td>\n",
       "      <td>97.400002</td>\n",
       "      <td>21230.927734</td>\n",
       "      <td>518.759949</td>\n",
       "      <td>0</td>\n",
       "    </tr>\n",
       "  </tbody>\n",
       "</table>\n",
       "</div>"
      ],
      "text/plain": [
       "   corrente_cp11  corrente_cp12  corrente_cp13  corrente_cp31     vazaro_ar  \\\n",
       "0      96.900002      92.599998      97.000000      97.400002  21204.308594   \n",
       "1      96.900002      92.500000      97.000000      97.400002  21073.390625   \n",
       "2      96.900002      92.300003      96.900002      97.800003  21070.710938   \n",
       "3      96.800003      92.500000      97.000000      97.400002  21106.867188   \n",
       "4      97.000000      92.599998      97.199997      97.400002  21230.927734   \n",
       "\n",
       "   pressao_ar falha  \n",
       "0  516.897827     0  \n",
       "1  516.804749     0  \n",
       "2  517.828857     0  \n",
       "3  518.573669     0  \n",
       "4  518.759949     0  "
      ]
     },
     "execution_count": 12,
     "metadata": {},
     "output_type": "execute_result"
    }
   ],
   "source": [
    "df.to_csv('Datasets/dataset_comp2.csv', sep = ';', index = False)\n",
    "df.head()"
   ]
  },
  {
   "cell_type": "markdown",
   "id": "01642a01",
   "metadata": {},
   "source": [
    "##### The dataset is already handled and with the fault definitions listed, ready to be trained by the machine learning model"
   ]
  },
  {
   "cell_type": "code",
   "execution_count": null,
   "id": "1f7f420d",
   "metadata": {},
   "outputs": [],
   "source": []
  }
 ],
 "metadata": {
  "kernelspec": {
   "display_name": "Python 3",
   "language": "python",
   "name": "python3"
  },
  "language_info": {
   "codemirror_mode": {
    "name": "ipython",
    "version": 3
   },
   "file_extension": ".py",
   "mimetype": "text/x-python",
   "name": "python",
   "nbconvert_exporter": "python",
   "pygments_lexer": "ipython3",
   "version": "3.8.8"
  }
 },
 "nbformat": 4,
 "nbformat_minor": 5
}
